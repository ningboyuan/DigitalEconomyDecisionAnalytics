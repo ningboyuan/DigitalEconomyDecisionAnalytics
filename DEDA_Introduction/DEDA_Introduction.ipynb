{
 "nbformat": 4,
 "nbformat_minor": 0,
 "metadata": {
  "colab": {
   "name": "DEDA_Introduction_pn.ipynb",
   "provenance": [],
   "collapsed_sections": []
  },
  "kernelspec": {
   "name": "python3",
   "display_name": "Python 3"
  },
  "language_info": {
   "name": "python"
  }
 },
 "cells": [
  {
   "cell_type": "markdown",
   "metadata": {
    "id": "uSOVgI3agXXf"
   },
   "source": [
    "# **Python Basic Syntax and Data Structure Introduction**"
   ]
  },
  {
   "cell_type": "markdown",
   "metadata": {
    "id": "8YSZ1zy9gfmg"
   },
   "source": [
    "### **Numerics**"
   ]
  },
  {
   "cell_type": "code",
   "metadata": {
    "colab": {
     "base_uri": "https://localhost:8080/"
    },
    "id": "4u9Rt_FJgdj6",
    "outputId": "4d072cb0-42a9-4858-aaf5-a6cdf2bb46e3"
   },
   "source": [
    "\"\"\"  \n",
    "This is a multi-line comment block. It is set in-between six quotation marks.\n",
    "Python provides a straight way for numerical operations.\n",
    "Try the basics:\n",
    "+, -, *, /, %, **, // \n",
    "\"\"\"\n",
    "# This is a one-line comment in Python. It extends to the end of the physical line.\n",
    "\n",
    "a = 5  # initiates integer variable a which the value 5 is assigned to\n",
    "print(a)\n",
    "b = 3  # initiates another integer variable b which the value 3 is assigned to\n",
    "print(b)\n",
    "b = 5  # overwrites the old value of b by 5\n",
    "print(b)\n",
    "a, b = 7, 3  # initiate two variables at once: a takes the value 7; b takes 3\n",
    "print(a,b)\n",
    "a += 1  # is a simplified version for a = a+1 so again a new value is assigned to a\n",
    "print(a)\n",
    "a -= 1  # is a simplified version for a = a-1 so again a new value is assigned to a\n",
    "print(a)"
   ],
   "execution_count": null,
   "outputs": [
    {
     "output_type": "stream",
     "name": "stdout",
     "text": [
      "5\n",
      "3\n",
      "5\n",
      "7 3\n",
      "8\n"
     ]
    }
   ]
  },
  {
   "cell_type": "markdown",
   "metadata": {
    "id": "QKBVmliIg-ri"
   },
   "source": [
    "### **Functions**"
   ]
  },
  {
   "cell_type": "code",
   "metadata": {
    "colab": {
     "base_uri": "https://localhost:8080/"
    },
    "id": "rWJRG103g1GM",
    "outputId": "d22b356f-3c84-4fea-f468-201d8879c4be"
   },
   "source": [
    "\"\"\"  \n",
    "Python provides versatile set of functions for variables.\n",
    "\"\"\"\n",
    "\n",
    "print(a)  # the function print() prints out the value of a; the output is 8\n",
    "print(b)\n",
    "c = round(a / b)  # the function round() rounds 8/3 and assigns the output to c\n",
    "print(c)\n",
    "# Function can also take arguments, which allow us for further specifications.\n",
    "c = round(a / b, ndigits=4)  # ndigits specifies the number of decimal places\n",
    "print(c)  # output is 2.6667\n",
    "c = round(a / b, 3)  # arguments do not need to be spelled out, if placed correctly\n",
    "print(c)  # output is 2.667"
   ],
   "execution_count": null,
   "outputs": [
    {
     "output_type": "stream",
     "name": "stdout",
     "text": [
      "8\n",
      "3\n",
      "3\n",
      "2.6667\n",
      "2.667\n"
     ]
    }
   ]
  },
  {
   "cell_type": "markdown",
   "metadata": {
    "id": "cV0r_Wc8hkor"
   },
   "source": [
    "### **Strings**"
   ]
  },
  {
   "cell_type": "code",
   "metadata": {
    "colab": {
     "base_uri": "https://localhost:8080/"
    },
    "id": "4z7LRX4-h40d",
    "outputId": "92f15311-6bf3-47d3-8681-4453571eb957"
   },
   "source": [
    "\"\"\" \n",
    "String is a basic type in python, it's commonly used and very powerful.\n",
    "\"\"\"\n",
    "\n",
    "w = 'Hello'  # initiates string variables by single quotation marks\n",
    "x = \"World\"  # … or by double quotation marks\n",
    "print(w + x)  # output is HelloWorld\n",
    "\n",
    "y = '20'  # numbers can also be assigned as strings too\n",
    "e = '10'\n",
    "print(y + e)  # concatenates strings so output is ‘2010’\n",
    "\n",
    "f = int(y) + int(e)  # the function int() converts strings to integers, f is 30 now\n",
    "print(f)\n",
    "\n",
    "# formatting strings\n",
    "# using f '….'  string, you can write variable names inside the brackets {}, directly.\n",
    "greeting = f'{w} Python-{x}.'\n",
    "print(greeting) # output is Hello Python-World.\n",
    "greeting = f'{w} {x.upper()}.' # the function .upper() capitalizes letters in string\n",
    "print(greeting) # output is Hello WORLD.\n"
   ],
   "execution_count": null,
   "outputs": [
    {
     "output_type": "stream",
     "name": "stdout",
     "text": [
      "HelloWorld\n",
      "2010\n",
      "30\n",
      "Hello Python-World.\n",
      "Hello WORLD.\n"
     ]
    }
   ]
  },
  {
   "cell_type": "markdown",
   "metadata": {
    "id": "f1ldDlW9iMXg"
   },
   "source": [
    "### **Comparison**"
   ]
  },
  {
   "cell_type": "code",
   "metadata": {
    "colab": {
     "base_uri": "https://localhost:8080/"
    },
    "id": "mOeP5-g-iRxd",
    "outputId": "5a04d8be-0c04-436f-abba-7acd1e9cba96"
   },
   "source": [
    "\"\"\"\n",
    "Python provides a straight way for numerical operations. Try comparison operations ==,<,<=,>,>=,!=\n",
    "\"\"\"\n",
    "\n",
    "a = 5\n",
    "print(a == 5)  # checks if a equals 5; output will be True\n",
    "print(a != 7)  # checks if a is not equal to 7; output will be False\n",
    "\n",
    "print(a <= 7)  # checks if a is smaller than or equal to 7; output will be True\n",
    "print(a > 5)  # checks if a is greater than 5; output will be False\n",
    "\n",
    "a = 'A'  # overwrites the old integer value of a (which is 7) by a string value ‘A’\n",
    "b = 'B'  # overwrites the old integer value of b (which is 3) by a string value ‘B’\n",
    "print(a == b)  # Comparison of string a and string b; False\n",
    "print(a != b)  # Comparison of string a and string b; True"
   ],
   "execution_count": null,
   "outputs": [
    {
     "output_type": "stream",
     "name": "stdout",
     "text": [
      "True\n",
      "True\n",
      "True\n",
      "False\n",
      "False\n",
      "True\n"
     ]
    }
   ]
  },
  {
   "cell_type": "markdown",
   "metadata": {
    "id": "43Wi2qMXjAja"
   },
   "source": [
    "### **Lists**"
   ]
  },
  {
   "cell_type": "code",
   "metadata": {
    "colab": {
     "base_uri": "https://localhost:8080/"
    },
    "id": "nNIFWWRYjJix",
    "outputId": "5fbdb94c-d5d5-4d03-ff14-c3c45f5a2ab4"
   },
   "source": [
    "\"\"\"\n",
    "List is a versatile Python data type to group values.\n",
    "In Python a list is created by placing all the items inside square brackets [] , separated by commas.\n",
    "\"\"\"\n",
    "\n",
    "my_list = []  # initiates an empty list, which we name as “my_list”\n",
    "my_list = [2, 3, 5, 7, 11]  # adds five elements to the list\n",
    "print(my_list)  # output: [2, 3, 5, 7, 11]\n",
    "\n",
    "# indexing\n",
    "print(my_list[0])  # the first element of my_list is called, which is 2\n",
    "print(my_list[-1])  # the last element of my_list is called, which is 11\n",
    "\n",
    "# slicing\n",
    "print(my_list[:2])  # calls the first two elements of my_list; the output is [2,3]\n",
    "print(my_list[-3:])  # calls the last three elements of my_list, the output is [5, 7, 11]\n",
    "\n",
    "# appending\n",
    "my_list.append(13)  # appends an element to my_list at the end, the output is [2, 3, 5, 7, 11, 13]\n",
    "print(my_list)\n",
    "my_list.extend([17, 19])  # appends more than one elements to my_list at the end, the output is [2, 3, 5, 7, 11, 13, 17, 19]\n",
    "print(my_list)"
   ],
   "execution_count": null,
   "outputs": [
    {
     "output_type": "stream",
     "name": "stdout",
     "text": [
      "[2, 3, 5, 7, 11]\n",
      "2\n",
      "11\n",
      "[2, 3]\n",
      "[5, 7, 11]\n",
      "[2, 3, 5, 7, 11, 13]\n",
      "[2, 3, 5, 7, 11, 13, 17, 19]\n"
     ]
    }
   ]
  },
  {
   "cell_type": "code",
   "metadata": {
    "colab": {
     "base_uri": "https://localhost:8080/"
    },
    "id": "ATz6h6RsjfgA",
    "outputId": "45b9afdd-0bfe-4b22-9048-bb76ca04298f"
   },
   "source": [
    "\"\"\"\n",
    "Lists can contain different types, e.g. strings, numbers, \n",
    "functions, lists, …\n",
    "\"\"\"\n",
    "\n",
    "my_list = ['Welcome', 'to', 'Python']  # adds three string elements to the list\n",
    "print(my_list[0])  # the output is Welcome\n",
    "print(my_list[1])  # the output is to\n",
    "print(my_list)  # the output is [‘Welcome', 'to', ‘Python']\n",
    "\n",
    "# using for loop to iterate all elements in the list:\n",
    "for word in my_list:  # word is a randomly chosen index, any other name can work too\n",
    "    print(word)"
   ],
   "execution_count": null,
   "outputs": [
    {
     "output_type": "stream",
     "name": "stdout",
     "text": [
      "Welcome\n",
      "to\n",
      "['Welcome', 'to', 'Python']\n",
      "Welcome\n",
      "to\n",
      "Python\n"
     ]
    }
   ]
  },
  {
   "cell_type": "code",
   "metadata": {
    "colab": {
     "base_uri": "https://localhost:8080/"
    },
    "id": "0jsRI4u8jmGE",
    "outputId": "7b705bae-b03f-4630-a5ba-c2226eeca8c9"
   },
   "source": [
    "\"\"\"\n",
    "Functions can help when working with lists.\n",
    "\"\"\"\n",
    "\n",
    "# to print it out in one line we need to apply the function join() to our list:\n",
    "list_as_sentence = '*'.join(my_list)  # substitute every (white) space with * as separators\n",
    "print(list_as_sentence)  # Welcome*to*Python\n",
    "list_as_sentence = ' '.join(my_list)  # substitute every * with (white) spaces as separators\n",
    "print(list_as_sentence)  # Welcome to Python\n",
    "\n",
    "# Try to execute this code and see what happens.\n",
    "list_sliced = list_as_sentence[0:12] # slices string by indices - the first 12 elements in the string (including white spaces)\n",
    "print(f'{list_sliced}.')  # the output is Welcome to P.\n",
    "\n",
    "# Try changing the indices to negative.\n",
    "sentence_big = list_as_sentence.upper()\n",
    "print(sentence_big)  # the output is WELCOME TO PYTHON"
   ],
   "execution_count": null,
   "outputs": [
    {
     "output_type": "stream",
     "name": "stdout",
     "text": [
      "Welcome*to*Python\n",
      "Welcome to Python\n",
      "Welcome to P.\n",
      "WELCOME TO PYTHON\n"
     ]
    }
   ]
  },
  {
   "cell_type": "markdown",
   "metadata": {
    "id": "IFyIikZxkEYF"
   },
   "source": [
    "### **Operations**"
   ]
  },
  {
   "cell_type": "code",
   "metadata": {
    "colab": {
     "base_uri": "https://localhost:8080/"
    },
    "id": "Gl3ZVMX6kILi",
    "outputId": "f92076aa-74ed-4fc3-938e-82fb5470a289"
   },
   "source": [
    "\"\"\"\n",
    "Checking for possible operations: \n",
    "\"\"\"\n",
    "\n",
    "# by using dir() function, or help() function; you may see all ops on the str object\n",
    "dir(str) # returns list of the attributes and methods of any object"
   ],
   "execution_count": null,
   "outputs": [
    {
     "output_type": "execute_result",
     "data": {
      "text/plain": [
       "['__add__',\n",
       " '__class__',\n",
       " '__contains__',\n",
       " '__delattr__',\n",
       " '__dir__',\n",
       " '__doc__',\n",
       " '__eq__',\n",
       " '__format__',\n",
       " '__ge__',\n",
       " '__getattribute__',\n",
       " '__getitem__',\n",
       " '__getnewargs__',\n",
       " '__gt__',\n",
       " '__hash__',\n",
       " '__init__',\n",
       " '__init_subclass__',\n",
       " '__iter__',\n",
       " '__le__',\n",
       " '__len__',\n",
       " '__lt__',\n",
       " '__mod__',\n",
       " '__mul__',\n",
       " '__ne__',\n",
       " '__new__',\n",
       " '__reduce__',\n",
       " '__reduce_ex__',\n",
       " '__repr__',\n",
       " '__rmod__',\n",
       " '__rmul__',\n",
       " '__setattr__',\n",
       " '__sizeof__',\n",
       " '__str__',\n",
       " '__subclasshook__',\n",
       " 'capitalize',\n",
       " 'casefold',\n",
       " 'center',\n",
       " 'count',\n",
       " 'encode',\n",
       " 'endswith',\n",
       " 'expandtabs',\n",
       " 'find',\n",
       " 'format',\n",
       " 'format_map',\n",
       " 'index',\n",
       " 'isalnum',\n",
       " 'isalpha',\n",
       " 'isascii',\n",
       " 'isdecimal',\n",
       " 'isdigit',\n",
       " 'isidentifier',\n",
       " 'islower',\n",
       " 'isnumeric',\n",
       " 'isprintable',\n",
       " 'isspace',\n",
       " 'istitle',\n",
       " 'isupper',\n",
       " 'join',\n",
       " 'ljust',\n",
       " 'lower',\n",
       " 'lstrip',\n",
       " 'maketrans',\n",
       " 'partition',\n",
       " 'replace',\n",
       " 'rfind',\n",
       " 'rindex',\n",
       " 'rjust',\n",
       " 'rpartition',\n",
       " 'rsplit',\n",
       " 'rstrip',\n",
       " 'split',\n",
       " 'splitlines',\n",
       " 'startswith',\n",
       " 'strip',\n",
       " 'swapcase',\n",
       " 'title',\n",
       " 'translate',\n",
       " 'upper',\n",
       " 'zfill']"
      ]
     },
     "metadata": {},
     "execution_count": 18
    }
   ]
  },
  {
   "cell_type": "code",
   "metadata": {
    "colab": {
     "base_uri": "https://localhost:8080/"
    },
    "id": "5t9BXEUVkYR0",
    "outputId": "1a39e571-0750-4068-decd-b014f9cf5e1c"
   },
   "source": [
    "# or a str instance\n",
    "dir(sentence_big)"
   ],
   "execution_count": null,
   "outputs": [
    {
     "output_type": "execute_result",
     "data": {
      "text/plain": [
       "['__add__',\n",
       " '__class__',\n",
       " '__contains__',\n",
       " '__delattr__',\n",
       " '__dir__',\n",
       " '__doc__',\n",
       " '__eq__',\n",
       " '__format__',\n",
       " '__ge__',\n",
       " '__getattribute__',\n",
       " '__getitem__',\n",
       " '__getnewargs__',\n",
       " '__gt__',\n",
       " '__hash__',\n",
       " '__init__',\n",
       " '__init_subclass__',\n",
       " '__iter__',\n",
       " '__le__',\n",
       " '__len__',\n",
       " '__lt__',\n",
       " '__mod__',\n",
       " '__mul__',\n",
       " '__ne__',\n",
       " '__new__',\n",
       " '__reduce__',\n",
       " '__reduce_ex__',\n",
       " '__repr__',\n",
       " '__rmod__',\n",
       " '__rmul__',\n",
       " '__setattr__',\n",
       " '__sizeof__',\n",
       " '__str__',\n",
       " '__subclasshook__',\n",
       " 'capitalize',\n",
       " 'casefold',\n",
       " 'center',\n",
       " 'count',\n",
       " 'encode',\n",
       " 'endswith',\n",
       " 'expandtabs',\n",
       " 'find',\n",
       " 'format',\n",
       " 'format_map',\n",
       " 'index',\n",
       " 'isalnum',\n",
       " 'isalpha',\n",
       " 'isascii',\n",
       " 'isdecimal',\n",
       " 'isdigit',\n",
       " 'isidentifier',\n",
       " 'islower',\n",
       " 'isnumeric',\n",
       " 'isprintable',\n",
       " 'isspace',\n",
       " 'istitle',\n",
       " 'isupper',\n",
       " 'join',\n",
       " 'ljust',\n",
       " 'lower',\n",
       " 'lstrip',\n",
       " 'maketrans',\n",
       " 'partition',\n",
       " 'replace',\n",
       " 'rfind',\n",
       " 'rindex',\n",
       " 'rjust',\n",
       " 'rpartition',\n",
       " 'rsplit',\n",
       " 'rstrip',\n",
       " 'split',\n",
       " 'splitlines',\n",
       " 'startswith',\n",
       " 'strip',\n",
       " 'swapcase',\n",
       " 'title',\n",
       " 'translate',\n",
       " 'upper',\n",
       " 'zfill']"
      ]
     },
     "metadata": {},
     "execution_count": 19
    }
   ]
  },
  {
   "cell_type": "code",
   "metadata": {
    "colab": {
     "base_uri": "https://localhost:8080/"
    },
    "id": "tS1LGTCQkaqk",
    "outputId": "0964425a-8d26-42c7-9782-d3d141b0e19d"
   },
   "source": [
    "# likewise,\n",
    "help(str)"
   ],
   "execution_count": null,
   "outputs": [
    {
     "output_type": "stream",
     "name": "stdout",
     "text": [
      "Help on class str in module builtins:\n",
      "\n",
      "class str(object)\n",
      " |  str(object='') -> str\n",
      " |  str(bytes_or_buffer[, encoding[, errors]]) -> str\n",
      " |  \n",
      " |  Create a new string object from the given object. If encoding or\n",
      " |  errors is specified, then the object must expose a data buffer\n",
      " |  that will be decoded using the given encoding and error handler.\n",
      " |  Otherwise, returns the result of object.__str__() (if defined)\n",
      " |  or repr(object).\n",
      " |  encoding defaults to sys.getdefaultencoding().\n",
      " |  errors defaults to 'strict'.\n",
      " |  \n",
      " |  Methods defined here:\n",
      " |  \n",
      " |  __add__(self, value, /)\n",
      " |      Return self+value.\n",
      " |  \n",
      " |  __contains__(self, key, /)\n",
      " |      Return key in self.\n",
      " |  \n",
      " |  __eq__(self, value, /)\n",
      " |      Return self==value.\n",
      " |  \n",
      " |  __format__(self, format_spec, /)\n",
      " |      Return a formatted version of the string as described by format_spec.\n",
      " |  \n",
      " |  __ge__(self, value, /)\n",
      " |      Return self>=value.\n",
      " |  \n",
      " |  __getattribute__(self, name, /)\n",
      " |      Return getattr(self, name).\n",
      " |  \n",
      " |  __getitem__(self, key, /)\n",
      " |      Return self[key].\n",
      " |  \n",
      " |  __getnewargs__(...)\n",
      " |  \n",
      " |  __gt__(self, value, /)\n",
      " |      Return self>value.\n",
      " |  \n",
      " |  __hash__(self, /)\n",
      " |      Return hash(self).\n",
      " |  \n",
      " |  __iter__(self, /)\n",
      " |      Implement iter(self).\n",
      " |  \n",
      " |  __le__(self, value, /)\n",
      " |      Return self<=value.\n",
      " |  \n",
      " |  __len__(self, /)\n",
      " |      Return len(self).\n",
      " |  \n",
      " |  __lt__(self, value, /)\n",
      " |      Return self<value.\n",
      " |  \n",
      " |  __mod__(self, value, /)\n",
      " |      Return self%value.\n",
      " |  \n",
      " |  __mul__(self, value, /)\n",
      " |      Return self*value.\n",
      " |  \n",
      " |  __ne__(self, value, /)\n",
      " |      Return self!=value.\n",
      " |  \n",
      " |  __repr__(self, /)\n",
      " |      Return repr(self).\n",
      " |  \n",
      " |  __rmod__(self, value, /)\n",
      " |      Return value%self.\n",
      " |  \n",
      " |  __rmul__(self, value, /)\n",
      " |      Return value*self.\n",
      " |  \n",
      " |  __sizeof__(self, /)\n",
      " |      Return the size of the string in memory, in bytes.\n",
      " |  \n",
      " |  __str__(self, /)\n",
      " |      Return str(self).\n",
      " |  \n",
      " |  capitalize(self, /)\n",
      " |      Return a capitalized version of the string.\n",
      " |      \n",
      " |      More specifically, make the first character have upper case and the rest lower\n",
      " |      case.\n",
      " |  \n",
      " |  casefold(self, /)\n",
      " |      Return a version of the string suitable for caseless comparisons.\n",
      " |  \n",
      " |  center(self, width, fillchar=' ', /)\n",
      " |      Return a centered string of length width.\n",
      " |      \n",
      " |      Padding is done using the specified fill character (default is a space).\n",
      " |  \n",
      " |  count(...)\n",
      " |      S.count(sub[, start[, end]]) -> int\n",
      " |      \n",
      " |      Return the number of non-overlapping occurrences of substring sub in\n",
      " |      string S[start:end].  Optional arguments start and end are\n",
      " |      interpreted as in slice notation.\n",
      " |  \n",
      " |  encode(self, /, encoding='utf-8', errors='strict')\n",
      " |      Encode the string using the codec registered for encoding.\n",
      " |      \n",
      " |      encoding\n",
      " |        The encoding in which to encode the string.\n",
      " |      errors\n",
      " |        The error handling scheme to use for encoding errors.\n",
      " |        The default is 'strict' meaning that encoding errors raise a\n",
      " |        UnicodeEncodeError.  Other possible values are 'ignore', 'replace' and\n",
      " |        'xmlcharrefreplace' as well as any other name registered with\n",
      " |        codecs.register_error that can handle UnicodeEncodeErrors.\n",
      " |  \n",
      " |  endswith(...)\n",
      " |      S.endswith(suffix[, start[, end]]) -> bool\n",
      " |      \n",
      " |      Return True if S ends with the specified suffix, False otherwise.\n",
      " |      With optional start, test S beginning at that position.\n",
      " |      With optional end, stop comparing S at that position.\n",
      " |      suffix can also be a tuple of strings to try.\n",
      " |  \n",
      " |  expandtabs(self, /, tabsize=8)\n",
      " |      Return a copy where all tab characters are expanded using spaces.\n",
      " |      \n",
      " |      If tabsize is not given, a tab size of 8 characters is assumed.\n",
      " |  \n",
      " |  find(...)\n",
      " |      S.find(sub[, start[, end]]) -> int\n",
      " |      \n",
      " |      Return the lowest index in S where substring sub is found,\n",
      " |      such that sub is contained within S[start:end].  Optional\n",
      " |      arguments start and end are interpreted as in slice notation.\n",
      " |      \n",
      " |      Return -1 on failure.\n",
      " |  \n",
      " |  format(...)\n",
      " |      S.format(*args, **kwargs) -> str\n",
      " |      \n",
      " |      Return a formatted version of S, using substitutions from args and kwargs.\n",
      " |      The substitutions are identified by braces ('{' and '}').\n",
      " |  \n",
      " |  format_map(...)\n",
      " |      S.format_map(mapping) -> str\n",
      " |      \n",
      " |      Return a formatted version of S, using substitutions from mapping.\n",
      " |      The substitutions are identified by braces ('{' and '}').\n",
      " |  \n",
      " |  index(...)\n",
      " |      S.index(sub[, start[, end]]) -> int\n",
      " |      \n",
      " |      Return the lowest index in S where substring sub is found, \n",
      " |      such that sub is contained within S[start:end].  Optional\n",
      " |      arguments start and end are interpreted as in slice notation.\n",
      " |      \n",
      " |      Raises ValueError when the substring is not found.\n",
      " |  \n",
      " |  isalnum(self, /)\n",
      " |      Return True if the string is an alpha-numeric string, False otherwise.\n",
      " |      \n",
      " |      A string is alpha-numeric if all characters in the string are alpha-numeric and\n",
      " |      there is at least one character in the string.\n",
      " |  \n",
      " |  isalpha(self, /)\n",
      " |      Return True if the string is an alphabetic string, False otherwise.\n",
      " |      \n",
      " |      A string is alphabetic if all characters in the string are alphabetic and there\n",
      " |      is at least one character in the string.\n",
      " |  \n",
      " |  isascii(self, /)\n",
      " |      Return True if all characters in the string are ASCII, False otherwise.\n",
      " |      \n",
      " |      ASCII characters have code points in the range U+0000-U+007F.\n",
      " |      Empty string is ASCII too.\n",
      " |  \n",
      " |  isdecimal(self, /)\n",
      " |      Return True if the string is a decimal string, False otherwise.\n",
      " |      \n",
      " |      A string is a decimal string if all characters in the string are decimal and\n",
      " |      there is at least one character in the string.\n",
      " |  \n",
      " |  isdigit(self, /)\n",
      " |      Return True if the string is a digit string, False otherwise.\n",
      " |      \n",
      " |      A string is a digit string if all characters in the string are digits and there\n",
      " |      is at least one character in the string.\n",
      " |  \n",
      " |  isidentifier(self, /)\n",
      " |      Return True if the string is a valid Python identifier, False otherwise.\n",
      " |      \n",
      " |      Use keyword.iskeyword() to test for reserved identifiers such as \"def\" and\n",
      " |      \"class\".\n",
      " |  \n",
      " |  islower(self, /)\n",
      " |      Return True if the string is a lowercase string, False otherwise.\n",
      " |      \n",
      " |      A string is lowercase if all cased characters in the string are lowercase and\n",
      " |      there is at least one cased character in the string.\n",
      " |  \n",
      " |  isnumeric(self, /)\n",
      " |      Return True if the string is a numeric string, False otherwise.\n",
      " |      \n",
      " |      A string is numeric if all characters in the string are numeric and there is at\n",
      " |      least one character in the string.\n",
      " |  \n",
      " |  isprintable(self, /)\n",
      " |      Return True if the string is printable, False otherwise.\n",
      " |      \n",
      " |      A string is printable if all of its characters are considered printable in\n",
      " |      repr() or if it is empty.\n",
      " |  \n",
      " |  isspace(self, /)\n",
      " |      Return True if the string is a whitespace string, False otherwise.\n",
      " |      \n",
      " |      A string is whitespace if all characters in the string are whitespace and there\n",
      " |      is at least one character in the string.\n",
      " |  \n",
      " |  istitle(self, /)\n",
      " |      Return True if the string is a title-cased string, False otherwise.\n",
      " |      \n",
      " |      In a title-cased string, upper- and title-case characters may only\n",
      " |      follow uncased characters and lowercase characters only cased ones.\n",
      " |  \n",
      " |  isupper(self, /)\n",
      " |      Return True if the string is an uppercase string, False otherwise.\n",
      " |      \n",
      " |      A string is uppercase if all cased characters in the string are uppercase and\n",
      " |      there is at least one cased character in the string.\n",
      " |  \n",
      " |  join(self, iterable, /)\n",
      " |      Concatenate any number of strings.\n",
      " |      \n",
      " |      The string whose method is called is inserted in between each given string.\n",
      " |      The result is returned as a new string.\n",
      " |      \n",
      " |      Example: '.'.join(['ab', 'pq', 'rs']) -> 'ab.pq.rs'\n",
      " |  \n",
      " |  ljust(self, width, fillchar=' ', /)\n",
      " |      Return a left-justified string of length width.\n",
      " |      \n",
      " |      Padding is done using the specified fill character (default is a space).\n",
      " |  \n",
      " |  lower(self, /)\n",
      " |      Return a copy of the string converted to lowercase.\n",
      " |  \n",
      " |  lstrip(self, chars=None, /)\n",
      " |      Return a copy of the string with leading whitespace removed.\n",
      " |      \n",
      " |      If chars is given and not None, remove characters in chars instead.\n",
      " |  \n",
      " |  partition(self, sep, /)\n",
      " |      Partition the string into three parts using the given separator.\n",
      " |      \n",
      " |      This will search for the separator in the string.  If the separator is found,\n",
      " |      returns a 3-tuple containing the part before the separator, the separator\n",
      " |      itself, and the part after it.\n",
      " |      \n",
      " |      If the separator is not found, returns a 3-tuple containing the original string\n",
      " |      and two empty strings.\n",
      " |  \n",
      " |  replace(self, old, new, count=-1, /)\n",
      " |      Return a copy with all occurrences of substring old replaced by new.\n",
      " |      \n",
      " |        count\n",
      " |          Maximum number of occurrences to replace.\n",
      " |          -1 (the default value) means replace all occurrences.\n",
      " |      \n",
      " |      If the optional argument count is given, only the first count occurrences are\n",
      " |      replaced.\n",
      " |  \n",
      " |  rfind(...)\n",
      " |      S.rfind(sub[, start[, end]]) -> int\n",
      " |      \n",
      " |      Return the highest index in S where substring sub is found,\n",
      " |      such that sub is contained within S[start:end].  Optional\n",
      " |      arguments start and end are interpreted as in slice notation.\n",
      " |      \n",
      " |      Return -1 on failure.\n",
      " |  \n",
      " |  rindex(...)\n",
      " |      S.rindex(sub[, start[, end]]) -> int\n",
      " |      \n",
      " |      Return the highest index in S where substring sub is found,\n",
      " |      such that sub is contained within S[start:end].  Optional\n",
      " |      arguments start and end are interpreted as in slice notation.\n",
      " |      \n",
      " |      Raises ValueError when the substring is not found.\n",
      " |  \n",
      " |  rjust(self, width, fillchar=' ', /)\n",
      " |      Return a right-justified string of length width.\n",
      " |      \n",
      " |      Padding is done using the specified fill character (default is a space).\n",
      " |  \n",
      " |  rpartition(self, sep, /)\n",
      " |      Partition the string into three parts using the given separator.\n",
      " |      \n",
      " |      This will search for the separator in the string, starting at the end. If\n",
      " |      the separator is found, returns a 3-tuple containing the part before the\n",
      " |      separator, the separator itself, and the part after it.\n",
      " |      \n",
      " |      If the separator is not found, returns a 3-tuple containing two empty strings\n",
      " |      and the original string.\n",
      " |  \n",
      " |  rsplit(self, /, sep=None, maxsplit=-1)\n",
      " |      Return a list of the words in the string, using sep as the delimiter string.\n",
      " |      \n",
      " |        sep\n",
      " |          The delimiter according which to split the string.\n",
      " |          None (the default value) means split according to any whitespace,\n",
      " |          and discard empty strings from the result.\n",
      " |        maxsplit\n",
      " |          Maximum number of splits to do.\n",
      " |          -1 (the default value) means no limit.\n",
      " |      \n",
      " |      Splits are done starting at the end of the string and working to the front.\n",
      " |  \n",
      " |  rstrip(self, chars=None, /)\n",
      " |      Return a copy of the string with trailing whitespace removed.\n",
      " |      \n",
      " |      If chars is given and not None, remove characters in chars instead.\n",
      " |  \n",
      " |  split(self, /, sep=None, maxsplit=-1)\n",
      " |      Return a list of the words in the string, using sep as the delimiter string.\n",
      " |      \n",
      " |      sep\n",
      " |        The delimiter according which to split the string.\n",
      " |        None (the default value) means split according to any whitespace,\n",
      " |        and discard empty strings from the result.\n",
      " |      maxsplit\n",
      " |        Maximum number of splits to do.\n",
      " |        -1 (the default value) means no limit.\n",
      " |  \n",
      " |  splitlines(self, /, keepends=False)\n",
      " |      Return a list of the lines in the string, breaking at line boundaries.\n",
      " |      \n",
      " |      Line breaks are not included in the resulting list unless keepends is given and\n",
      " |      true.\n",
      " |  \n",
      " |  startswith(...)\n",
      " |      S.startswith(prefix[, start[, end]]) -> bool\n",
      " |      \n",
      " |      Return True if S starts with the specified prefix, False otherwise.\n",
      " |      With optional start, test S beginning at that position.\n",
      " |      With optional end, stop comparing S at that position.\n",
      " |      prefix can also be a tuple of strings to try.\n",
      " |  \n",
      " |  strip(self, chars=None, /)\n",
      " |      Return a copy of the string with leading and trailing whitespace removed.\n",
      " |      \n",
      " |      If chars is given and not None, remove characters in chars instead.\n",
      " |  \n",
      " |  swapcase(self, /)\n",
      " |      Convert uppercase characters to lowercase and lowercase characters to uppercase.\n",
      " |  \n",
      " |  title(self, /)\n",
      " |      Return a version of the string where each word is titlecased.\n",
      " |      \n",
      " |      More specifically, words start with uppercased characters and all remaining\n",
      " |      cased characters have lower case.\n",
      " |  \n",
      " |  translate(self, table, /)\n",
      " |      Replace each character in the string using the given translation table.\n",
      " |      \n",
      " |        table\n",
      " |          Translation table, which must be a mapping of Unicode ordinals to\n",
      " |          Unicode ordinals, strings, or None.\n",
      " |      \n",
      " |      The table must implement lookup/indexing via __getitem__, for instance a\n",
      " |      dictionary or list.  If this operation raises LookupError, the character is\n",
      " |      left untouched.  Characters mapped to None are deleted.\n",
      " |  \n",
      " |  upper(self, /)\n",
      " |      Return a copy of the string converted to uppercase.\n",
      " |  \n",
      " |  zfill(self, width, /)\n",
      " |      Pad a numeric string with zeros on the left, to fill a field of the given width.\n",
      " |      \n",
      " |      The string is never truncated.\n",
      " |  \n",
      " |  ----------------------------------------------------------------------\n",
      " |  Static methods defined here:\n",
      " |  \n",
      " |  __new__(*args, **kwargs) from builtins.type\n",
      " |      Create and return a new object.  See help(type) for accurate signature.\n",
      " |  \n",
      " |  maketrans(x, y=None, z=None, /)\n",
      " |      Return a translation table usable for str.translate().\n",
      " |      \n",
      " |      If there is only one argument, it must be a dictionary mapping Unicode\n",
      " |      ordinals (integers) or characters to Unicode ordinals, strings or None.\n",
      " |      Character keys will be then converted to ordinals.\n",
      " |      If there are two arguments, they must be strings of equal length, and\n",
      " |      in the resulting dictionary, each character in x will be mapped to the\n",
      " |      character at the same position in y. If there is a third argument, it\n",
      " |      must be a string, whose characters will be mapped to None in the result.\n",
      "\n"
     ]
    }
   ]
  },
  {
   "cell_type": "markdown",
   "metadata": {
    "id": "wpDntIf0keNL"
   },
   "source": [
    "### **Dictionaries**"
   ]
  },
  {
   "cell_type": "code",
   "metadata": {
    "colab": {
     "base_uri": "https://localhost:8080/"
    },
    "id": "2Z8gLOGykjLX",
    "outputId": "2037e39a-18da-4dd5-f6be-5dced80d1a2e"
   },
   "source": [
    "\"\"\"\n",
    "Dictionaries are used to store data values in key:value pairs. A dictionary is a collection which is unordered, changeable and does not allow for duplicates.\n",
    "\"\"\"\n",
    "\n",
    "course = dict(name='DEDA', unit=0)\n",
    "print(course) # the output is {'name': 'DEDA', 'unit': 0}\n",
    "course = {'name': 'DEDA', 'unit': 0}  # an alternative for the same purpose\n",
    "print(course)\n",
    "\n",
    "# accessing\n",
    "print(course['unit'])  # the output is 0\n",
    "\n",
    "# assigning\n",
    "course['unit'] = 1 # assign 'unit' with value 1\n",
    "print(course['unit']) \n",
    "\n",
    "# get keys\n",
    "print(course.keys())  # the function keys() returns to the keys of the key:value pair, the output is ['name', 'unit']\n",
    "print(course.values())  #  the function keys() returns to the values of the key:value pair, the output is ['name', 'unit']\n",
    "\n",
    "# adding values\n",
    "course.update({'lecturers': ['Chen', 'Härdle']}) # the function update() helps appending new key-value pairs\n",
    "print(course) # output is {'name': 'DEDA', 'unit': 1, 'lecturers': ['Chen', 'Härdle']}\n"
   ],
   "execution_count": null,
   "outputs": [
    {
     "output_type": "stream",
     "name": "stdout",
     "text": [
      "{'name': 'DEDA', 'unit': 0}\n",
      "{'name': 'DEDA', 'unit': 0}\n",
      "0\n",
      "1\n",
      "dict_keys(['name', 'unit'])\n",
      "dict_values(['DEDA', 1])\n",
      "{'name': 'DEDA', 'unit': 1, 'lecturers': ['Chen', 'Härdle']}\n"
     ]
    }
   ]
  },
  {
   "cell_type": "markdown",
   "metadata": {
    "id": "GPE4JLCflDIZ"
   },
   "source": [
    "### **If/elif/else**"
   ]
  },
  {
   "cell_type": "code",
   "metadata": {
    "colab": {
     "base_uri": "https://localhost:8080/"
    },
    "id": "70168J6Kl6Av",
    "outputId": "c09368de-295e-418a-a8ff-4ea19c24a419"
   },
   "source": [
    "\"\"\"\n",
    "Control Flow Tools: if/elif/else. \n",
    "Comparison statements can be used. \n",
    "\"\"\"\n",
    "\n",
    "x = 10  # initiates a numeric variable x\n",
    "\n",
    "if x < 0:  # if-statement checking for the value of x\n",
    "    print('Negative Value')  # note the four additional level of indentation (4 spaces)\n",
    "elif x == 0:\n",
    "    print('Zero')\n",
    "else:\n",
    "    print('Positive Value')"
   ],
   "execution_count": null,
   "outputs": [
    {
     "output_type": "stream",
     "name": "stdout",
     "text": [
      "Positive Value\n"
     ]
    }
   ]
  },
  {
   "cell_type": "code",
   "metadata": {
    "colab": {
     "base_uri": "https://localhost:8080/"
    },
    "id": "J6kfSQoYlo4v",
    "outputId": "cda17497-7dff-4043-b890-e36e0c14b21a"
   },
   "source": [
    "\"\"\"\n",
    "Control Flow Tools: if/elif/else\n",
    "\"\"\"\n",
    "\n",
    "# Conditions can be combined or altered with: and, or, not, is, is not\n",
    "p = [2, 3, 5, 7, 11]  # initiates a list p\n",
    "print(p)\n",
    "print(3 in p) # checks if a element 3 exists in p; True\n",
    "print(3 in p and 4 in p) # checks if both elements 3 and 4 exist in p; False\n",
    "print(3 in p or 4 in p) # checks if either element 3 or element 4 exists in p; True\n",
    "\n",
    "# Empty/Missing Values can be also initiated by the term “None”.\n",
    "y = None  # initiates an empty variable y.\n",
    "\n",
    "if y is not None:  # alternatively: if not y is None: ….\n",
    "    print('Value is not None')\n",
    "else:\n",
    "    print('Value is None')\n"
   ],
   "execution_count": null,
   "outputs": [
    {
     "output_type": "stream",
     "name": "stdout",
     "text": [
      "[2, 3, 5, 7, 11]\n",
      "True\n",
      "False\n",
      "True\n",
      "Value is None\n"
     ]
    }
   ]
  },
  {
   "cell_type": "markdown",
   "metadata": {
    "id": "dRL0wvOMmDp7"
   },
   "source": [
    "### **For loop**"
   ]
  },
  {
   "cell_type": "code",
   "metadata": {
    "colab": {
     "base_uri": "https://localhost:8080/"
    },
    "id": "sZMKKlOTmGja",
    "outputId": "33a82727-bacc-42f8-a5b9-e6a29a188387"
   },
   "source": [
    "\"\"\"\n",
    "For Loop can iterate over all elements. The i is a self-chosen variable to use to represent the current increment in a loop. \n",
    "\"\"\"\n",
    "\n",
    "l = list([1, 2, 3, 4, 5])\n",
    "for i in l:\n",
    "    print(i * 2, end=' ')  # the output is: 2 4 6 8 10\n",
    "\n",
    "for i in range(6): # range(6) iterates from 0 to 5 (6 natural numbers in total)\n",
    "    if i == 3:\n",
    "        continue  # skip 3*2 in output\n",
    "    print(i * 2, end=' ')  # the output is (1*2 2*2 4*2 5*2): 0 2 4 8 10\n",
    "\n",
    "for i in 'DEDA': # i can also be substituted by other variables\n",
    "    print(i, end=' ')  # output: D E D A\n",
    "\n",
    "#\"{} {}\".format(\"hello\", \"world\"); format() function\n",
    "#\"{1} {0} {1}\".format(\"hello\", \"world\"); format() function specifying positions\n",
    "\n",
    "d = dict(a=1, b=2) # alternatively, d = {'a': 1, 'b': 2}\n",
    "for k, v in d.items(): # items() is a function used to return the list with all dictionary keys with values.\n",
    "    print('\\n{} has value {}'.format(k, v)) # \\n is used to insert a newline in the text at this point.\n",
    "# the output (1st line) is: a has value 1\n",
    "# the output (2nd line) is: b has value 2\n"
   ],
   "execution_count": null,
   "outputs": [
    {
     "output_type": "stream",
     "name": "stdout",
     "text": [
      "2 4 6 8 10 0 2 4 8 10 D E D A \n",
      "a has value 1\n",
      "\n",
      "b has value 2\n"
     ]
    }
   ]
  },
  {
   "cell_type": "markdown",
   "metadata": {
    "id": "C76kOxCJmqh-"
   },
   "source": [
    "### **While eloop**"
   ]
  },
  {
   "cell_type": "code",
   "metadata": {
    "colab": {
     "base_uri": "https://localhost:8080/"
    },
    "id": "gVNA4rYcmt4G",
    "outputId": "40ef8f75-559b-4344-aa4b-7e402123d3c9"
   },
   "source": [
    "\"\"\"\n",
    "With the while loop we can execute a set of statements as long as a condition is true. ATTENTION: Make sure not to have infinite loop (loop with tautology in condition).\n",
    "\"\"\"\n",
    "\n",
    "# Fibonacci series: sum of two preceding numbers defines next number\n",
    "a, b = 0, 1\n",
    "while b < 100:\n",
    "    print(b, end=' ')\n",
    "    a, b = b, b + a # a is overwritten by b, b is overwritten by b+a\n",
    "# 1 1 2 3 5 8 13 21 34 55 89"
   ],
   "execution_count": null,
   "outputs": [
    {
     "output_type": "stream",
     "name": "stdout",
     "text": [
      "1 1 2 3 5 8 13 21 34 55 89 "
     ]
    }
   ]
  },
  {
   "cell_type": "code",
   "metadata": {
    "colab": {
     "base_uri": "https://localhost:8080/"
    },
    "id": "ooLsTNF2mw3u",
    "outputId": "019d7d6d-3291-49cd-c994-9ae45424e327"
   },
   "source": [
    "\"\"\"\n",
    "The < break > statement in Python terminates the current loop and resumes execution at the next statement.\n",
    "\"\"\"\n",
    "\n",
    "# Fibonacci series\n",
    "fib = [0, 1]  # initiates a list called fib\n",
    "while True: # is always Ture - if no break the loop will be infinite\n",
    "    fib.append(sum(fib[-2:])) # adds the sum of last two elements of the list fib to the fib's last version\n",
    "    if fib[-1] > 100:\n",
    "        break\n",
    "print(fib)  # [0, 1, 1, 2, 3, 5, 8, 13, 21, 34, 55, 89, 144]"
   ],
   "execution_count": null,
   "outputs": [
    {
     "output_type": "stream",
     "name": "stdout",
     "text": [
      "[0, 1, 1, 2, 3, 5, 8, 13, 21, 34, 55, 89, 144]\n"
     ]
    }
   ]
  },
  {
   "cell_type": "markdown",
   "metadata": {
    "id": "HDplqWHpm4r1"
   },
   "source": [
    "### **Functions**"
   ]
  },
  {
   "cell_type": "code",
   "metadata": {
    "colab": {
     "base_uri": "https://localhost:8080/"
    },
    "id": "8RhWd4Dzm8Uc",
    "outputId": "9b7c2b3d-8982-4481-9c4a-7de72fa1cc88"
   },
   "source": [
    "\"\"\"\n",
    "Define our own functions using def, followed by a name, parameters in parentheses (), a colon, and a block of code.\n",
    "\"\"\"\n",
    "\n",
    "def my_first_fct():\n",
    "    print('This is my first function.')  # always note that there should be four indentations\n",
    "my_first_fct()  # call the function\n",
    "\n",
    "# another function with two parameter m and n\n",
    "def my_second_fct(m, n):\n",
    "    mn = m % n # division algorithm, m the nominator, n the denominator\n",
    "    return print(f'The remainder of the division of {m} by {n} is {mn}.')\n",
    "\n",
    "my_second_fct(4, 3)  # call the function and pass the variables m = 4 and n = 3\n",
    "my_second_fct(7, 2)  # call the function and pass the variables m = 7 and n = 2"
   ],
   "execution_count": null,
   "outputs": [
    {
     "output_type": "stream",
     "name": "stdout",
     "text": [
      "This is my first function.\n",
      "The remainder of the devision of 4 by 3 is 1.\n",
      "The remainder of the devision of 7 by 2 is 1.\n"
     ]
    }
   ]
  },
  {
   "cell_type": "code",
   "metadata": {
    "colab": {
     "base_uri": "https://localhost:8080/"
    },
    "id": "8N1knITonBni",
    "outputId": "4a2cd79e-7839-4218-bef2-e052202c3287"
   },
   "source": [
    "\"\"\"\n",
    "Another example for functions\n",
    "\"\"\"\n",
    "\n",
    "def square_numeric(x):  # squares numeric x\n",
    "    return x ** 2 # e.g. 4 power 2 is 16\n",
    "\n",
    "def square_iterable(x):  # squares numerics in iterable x\n",
    "    list = []\n",
    "    for i in x:\n",
    "        list.append(square_numeric(i))\n",
    "    return list\n",
    "\n",
    "def square_iterable_short(x):  # squares numerics in iterable x\n",
    "    return [square_numeric(i) for i in x]\n",
    "\n",
    "x = [1, 2, 3, 4, 5]\n",
    "square_iterable(x)  # the output is [1, 4, 9, 16, 25]\n",
    "square_iterable_short(x)  # the output is [1, 4, 9, 16, 25]\n"
   ],
   "execution_count": null,
   "outputs": [
    {
     "output_type": "execute_result",
     "data": {
      "text/plain": [
       "[1, 4, 9, 16, 25]"
      ]
     },
     "metadata": {},
     "execution_count": 37
    }
   ]
  },
  {
   "cell_type": "markdown",
   "metadata": {
    "id": "EEhFN687npXg"
   },
   "source": [
    "# **Application 1: Wiggling Elephant Trunk**"
   ]
  },
  {
   "cell_type": "markdown",
   "metadata": {
    "id": "YwZqvOYDnxpd"
   },
   "source": [
    "Wiggling Elephant Trunk:\n",
    "\n",
    "vonNeuman_elephant.py\n",
    "    \"With four parameters I can fit an elephant,\n",
    "       and with five I can make him wiggle his trunk.\"\n",
    "\n",
    "\n",
    "Original Versions:\n",
    "\n",
    "    Author[1]: Piotr A. Zolnierczuk (zolnierczukp at ornl dot gov)\n",
    "    Retrieved on 14 September 2011 from\n",
    "    http://www.johndcook.com/blog/2011/06/21/how-to-fit-an-elephant/\n",
    "\n",
    "Modified to wiggle trunk:\n",
    "\n",
    "    2 October 2011 by David Bailey (http://www.physics.utoronto.ca/~dbailey)\n",
    "    Author[2]:\n",
    "    Advanced Physics Laboratory\n",
    "    https://www.physics.utoronto.ca/~phy326/python/\n",
    "Based on the paper:\n",
    "\n",
    "    \"Drawing an elephant with four complex parameters\", by\n",
    "    Jurgen Mayer, Khaled Khairy, and Jonathon Howard,\n",
    "    Am. J. Phys. 78, 648 (2010), DOI:10.1119/1.3254017\n",
    "  The paper does not specify how the wiggle parameter controls the\n",
    "  trunk, so a guess was made.\n",
    "\n",
    "Inspired by John von Neumann's famous quote (above) about overfitting data.\n",
    "\n",
    "    Attributed to von Neumann by Enrico Fermi, as quoted by\n",
    "    Freeman Dyson in \"A meeting with Enrico Fermi\" in\n",
    "    Nature 427 (22 January 2004) p. 297\n",
    "\n",
    "Python Version: 3.6\n",
    "\n",
    "Modified based on author[2]'s work\n",
    "\n",
    "Author: Junjie Hu\n",
    "\n",
    "Overfiting problem in trading strategy stated:\n",
    "\n",
    "    Bailey, D., Borwein, J., Lopez de Prado, M., & Zhu, Q. (2014).\n",
    "    Pseudo-mathematics and financial charlatanism: The effects of backtest overfitting on out-of-sample performance.\n"
   ]
  },
  {
   "cell_type": "code",
   "metadata": {
    "colab": {
     "base_uri": "https://localhost:8080/",
     "height": 302
    },
    "id": "Ey4cT7Odnt-b",
    "outputId": "fb901fd7-8e13-465e-ca3c-ea9124648ad5"
   },
   "source": [
    "import matplotlib # import the module matplotlib\n",
    "matplotlib.use('TKAgg') # open individual windows when plots are shown\n",
    "from matplotlib import animation # import the function animation embedded in matplotlib for a wiggling trunk\n",
    "from numpy import append, cos, linspace, pi, sin, zeros # import some functions embedded in numpy in order to build up the Fourier coordinate expansions\n",
    "import matplotlib.pyplot as plt # import matplotlib.pyplot (name it as plt) for the purpose of plotting\n",
    "from IPython.display import HTML # import the function HTML embedded in IPython.display for playing animiations\n",
    "\n",
    "# PLEASE NOTE IN SPYDER YOU SHOULD DISABLE THE ACTIVE SUPPORT in PREFs\n",
    "\n",
    "# elephant parameters\n",
    "parameters = [50 - 30j, 18 + 8j, 12 - 10j, -14 - 60j, 20 + 20j]\n",
    "\n",
    "# patrick's happy spermwhale\n",
    "# parameters = [30 - 10j, 20 + 20j, 40 + 10j, 20 - 50j, -40 + 10j]\n",
    "\n",
    "# philipp's flying swan \n",
    "# parameters = [1 - 2j, 9 + 9j, 1 - 2j, 9 + 9j, 0 + 0j]\n",
    "\n",
    "# kathrin's hungry animal \n",
    "# parameters = [50 - 50j, 30 + 10j, 5 - 2j, -5 - 6j, 20 + 20j]\n",
    "\n",
    "# anna’s happy hippo\n",
    "# parameters = [50 - 15j, 5 + 2j, -10 - 10j, -14 - 60j, 5 + 30j]\n",
    "\n",
    "# fabio’s bird with right wing paralysis\n",
    "# parameters = [50 - 15j, 5 + 2j, -1 - 5j, -14 - 60j, 18 - 40j]\n",
    "\n",
    "# Fourier coordinate expansion\n",
    "def fourier(t, C): # t denotes the collection of observation points that should be better spaced evenly (for convenience); C denotes Fourier coefficients to be specified\n",
    "    f = zeros(t.shape) # shape() returns the size of an object; zeros() returns a new array of given shape and type, filled with zeros.\n",
    "                       # f's initial value is given by 0\n",
    "    for k in range(len(C)): # len() denotes the length of C\n",
    "        f += C.real[k] * cos(k * t) + C.imag[k] * sin(k * t) # real[] and img[] denote the real, imaginary parts of C[k], respectively\n",
    "    return f\n",
    "\n",
    "# elephant function\n",
    "def elephant(t, p): # t denotes the collection of observation points; p denotes the parameters used for specifying C (Fourier coefficients)\n",
    "    npar = 6\n",
    "\n",
    "    Cx = zeros((npar,), dtype='complex') # Cx with initial value 0 should be an array containing npar=6 complex vectors, that is, Cx = array([0.+0.j, 0.+0.j, 0.+0.j, 0.+0.j, 0.+0.j, 0.+0.j])\n",
    "    Cy = zeros((npar,), dtype='complex') # Cy with initial value 0 should be an array containing npar=6 complex vectors, that is, Cx = array([0.+0.j, 0.+0.j, 0.+0.j, 0.+0.j, 0.+0.j, 0.+0.j])\n",
    "\n",
    "    Cy[1] = p[0].real * 1j\n",
    "    Cx[1] = p[3].imag + p[0].imag * 1j\n",
    "    Cy[2] = p[1].real * 1j\n",
    "    Cx[2] = p[1].imag * 1j\n",
    "    Cy[3] = p[2].real\n",
    "    Cx[3] = p[2].imag * 1j\n",
    "    Cy[5] = p[3].real\n",
    "\n",
    "    x = append(fourier(t, Cx), [p[4].real]) # add a point as the elephant's eye\n",
    "    y = append(fourier(t, Cy), [-p[4].imag]) # add a point as the elephant's eye\n",
    "\n",
    "    return x, -y\n",
    "\n",
    "# Draw the elephant's body & Create trunk\n",
    "def init_plot():\n",
    "    x, y = elephant(linspace(2.9 * pi, 0.4 + 3.3 * pi, 1000), parameters) # linspace() returns evenly spaced numbers (totally 1000) over a specified interval (2.9 * pi, 0.4 + 3.3 * pi).\n",
    "    for ii in range(len(y) - 1):\n",
    "        y[ii] -= sin(((x[ii] - x[0]) * pi / len(y))) * sin(float(0)) * parameters[4].real\n",
    "    trunk.set_data(x, y)\n",
    "    return trunk,\n",
    "\n",
    "# draw the wiggling trunk\n",
    "def move_trunk(i):\n",
    "    x, y = elephant(linspace(2.9 * pi, 0.4 + 3.3 * pi, 1000), parameters)\n",
    "    # Move the trunk to new position (but don't move eye stored at end or array)\n",
    "    for ii in range(len(y) - 1):\n",
    "        y[ii] -= sin(((x[ii] - x[0]) * pi / len(y))) * sin(float(i)) * parameters[4].real\n",
    "    trunk.set_data(x, y)\n",
    "    return trunk,\n",
    "\n",
    "fig, ax = plt.subplots() # initiates a figure and subplot axes\n",
    "# initiates the elephant's body\n",
    "x, y = elephant(t=linspace(0.4 + 1.3 * pi, 2.9 * pi, 1000), p=parameters)\n",
    "plt.plot(x, y, 'b.') # 'b.' stands for blue lines\n",
    "plt.xlim([-75, 90]) # stretches the x-axis to have a better vision\n",
    "plt.ylim([-70, 87]) # stretches the y-axis to have a better vision\n",
    "plt.axis('off') # removes the axes\n",
    "# Assign the initial value of the elephant's trunk\n",
    "trunk, = ax.plot([], [], 'b.')\n",
    "\n",
    "ani = animation.FuncAnimation(fig=fig, # the figure object used to get needed events, such as draw or resize.\n",
    "                              func=move_trunk, # the wiggling trunk function\n",
    "                              frames=1000, # the source of data to pass func and each frame of the animation\n",
    "                              init_func=init_plot, # the elephant's body and trunk function\n",
    "                              interval=100, # the delay between frames in milliseconds.\n",
    "                              blit=False, # whether blitting is used to optimize drawing\n",
    "                              repeat=True) # whether the animation repeats when the sequence of frames is completed.\n",
    "ani\n",
    "HTML(ani.to_html5_video())\n",
    "\n",
    "\"\"\" \n",
    "# Uncomment if you would like to save video externally\n",
    "Writer = animation.writers['ffmpeg']\n",
    "metadata = dict(title='Elephant Trunk Wiggling', artist='Jenny Bethäuser')\n",
    "writer = Writer(fps=30, metadata=metadata, bitrate=1800)\n",
    "ani.save(filename='bulldog_trunk_wiggle.mp4', writer=writer)\n",
    "plt.show()\n",
    "\"\"\""
   ],
   "execution_count": null,
   "outputs": [
    {
     "output_type": "execute_result",
     "data": {
      "application/vnd.google.colaboratory.intrinsic+json": {
       "type": "string"
      },
      "text/plain": [
       "\" \\n# Uncomment if you would like to save video externally\\nWriter = animation.writers['ffmpeg']\\nmetadata = dict(title='Elephant Trunk Wiggling', artist='Jenny Bethäuser')\\nwriter = Writer(fps=30, metadata=metadata, bitrate=1800)\\nani.save(filename='bulldog_trunk_wiggle.mp4', writer=writer)\\nplt.show()\\n\""
      ]
     },
     "metadata": {},
     "execution_count": 38
    },
    {
     "output_type": "display_data",
     "data": {
      "image/png": "[encoded data removed]",
      "text/plain": [
       "<Figure size 432x288 with 1 Axes>"
      ]
     },
     "metadata": {
      "needs_background": "light"
     }
    }
   ]
  },
  {
   "cell_type": "markdown",
   "metadata": {
    "id": "JesUzJLnoYsp"
   },
   "source": [
    "# **Application 2: Wentian’s Pea Shooter**"
   ]
  },
  {
   "cell_type": "markdown",
   "metadata": {
    "id": "7SP9gZQOossa"
   },
   "source": [
    "Wentian’s pea shooter:\n",
    "\n",
    "vonNeuman_elephant.py\n",
    "\n",
    "    \"With four parameters I can fit an elephant,\n",
    "    and with five I can make him wiggle his trunk.\"\n",
    "\n",
    "Original Versions:\n",
    "\n",
    "    Author[1]: Piotr A. Zolnierczuk (zolnierczukp at ornl dot gov)\n",
    "    Retrieved on 14 September 2011 from\n",
    "    http://www.johndcook.com/blog/2011/06/21/how-to-fit-an-elephant/\n",
    "\n",
    "Modified to wiggle trunk:\n",
    "\n",
    "    2 October 2011 by David Bailey (http://www.physics.utoronto.ca/~dbailey)\n",
    "    Author[2]:\n",
    "    Advanced Physics Laboratory\n",
    "    https://www.physics.utoronto.ca/~phy326/python/\n",
    "\n",
    "Based on the paper:\n",
    "\n",
    "    \"Drawing an elephant with four complex parameters\", by\n",
    "    Jurgen Mayer, Khaled Khairy, and Jonathon Howard,\n",
    "    Am. J. Phys. 78, 648 (2010), DOI:10.1119/1.3254017\n",
    "The paper does not specify how the wiggle parameter controls the\n",
    "trunk, so a guess was made.\n",
    "\n",
    "Inspired by John von Neumann's famous quote (above) about overfitting data.\n",
    "    Attributed to von Neumann by Enrico Fermi, as quoted by\n",
    "    Freeman Dyson in \"A meeting with Enrico Fermi\" in\n",
    "    Nature 427 (22 January 2004) p. 297\n",
    "      \n",
    "Python Version: 3.6\n",
    "\n",
    "Modified based on author[2]'s work\n",
    "\n",
    "Author: Junjie Hu\n",
    "\n",
    "Overfiting problem in trading strategy stated:\n",
    "\n",
    "    Bailey, D., Borwein, J., Lopez de Prado, M., & Zhu, Q. (2014).\n",
    "    Pseudo-mathematics and financial charlatanism: The effects of backtest overfitting on out-of-sample performance.\n",
    "\"\"\""
   ]
  },
  {
   "cell_type": "code",
   "metadata": {
    "colab": {
     "base_uri": "https://localhost:8080/",
     "height": 248
    },
    "id": "U9JNu5PiopxD",
    "outputId": "2fd58c1c-eed2-4cfd-9f5b-0e2e097bc8ef"
   },
   "source": [
    "# for peashooter: \n",
    "\n",
    "import matplotlib\n",
    "matplotlib.use('TKAgg')\n",
    "\n",
    "\"\"\"\n",
    "you might want to use the following in terminal if the graphviz does not work:\n",
    "conda install -c conda-forge ffmpeg\n",
    "All should be fine though if you use jupyter notebook\n",
    "\"\"\"\n",
    "\n",
    "from matplotlib import animation\n",
    "import matplotlib.animation as animation\n",
    "from numpy import append, cos, linspace, pi, sin, zeros\n",
    "import matplotlib.pyplot as plt\n",
    "from IPython.display import HTML\n",
    "\n",
    "parameters = [50 - 50j, 18 + 80j, 12 - 10j, -14 - 60j, 20 + 20j]\n",
    "\n",
    "def fourier(t, C):\n",
    "    f = zeros(t.shape)\n",
    "    for k in range(len(C)):\n",
    "        f += C.real[k] * cos(k * t) + C.imag[k] * sin(k * t)\n",
    "    return f\n",
    "\n",
    "def peashooter(t, p):\n",
    "    npar = 6\n",
    "    Cx = zeros((npar,), dtype='complex')\n",
    "    Cy = zeros((npar,), dtype='complex')\n",
    "    Cx[1] = p[0].real * 1j\n",
    "    Cy[1] = p[3].imag + p[0].imag * 1j\n",
    "    Cx[2] = p[1].real * 1j\n",
    "    Cy[2] = p[1].imag * 1j\n",
    "    Cx[3] = p[2].real\n",
    "    Cy[3] = p[2].imag * 1j\n",
    "    Cx[5] = p[3].real\n",
    "    x = append(fourier(t, Cy), [p[4].real])\n",
    "    y = -append(fourier(t, Cx), [-p[4].imag])\n",
    "    return x, y\n",
    "\n",
    "def init_plot():\n",
    "    x, y = peashooter(linspace(2.9 * pi, 0.4 + 3.3 * pi, 1000), parameters)\n",
    "    for ii in range(len(y) - 1):\n",
    "        y[ii] -= sin(((x[ii] - x[0]) * pi / len(y))) * sin(float(0)) * parameters[4].real\n",
    "    trunk.set_data(x, y)\n",
    "    return trunk,\n",
    "\n",
    "def move_trunk(i):\n",
    "    x, y = peashooter(linspace(2.9 * pi, 0.4 + 3.3 * pi, 1000), parameters)\n",
    "    for ii in range(len(y) - 1):\n",
    "        y[ii] -= sin(((x[ii] - x[0]) * pi / len(y))) * sin(float(i)) * parameters[4].real\n",
    "    trunk.set_data(x, y)\n",
    "    return trunk,\n",
    "\n",
    "fig, ax = plt.subplots()\n",
    "x, y = peashooter(t=linspace(0.4 + 1.3 * pi, 2.9 * pi, 1000), p=parameters)\n",
    "plt.plot(x, y, 'b.')\n",
    "\n",
    "plt.xlim([-175, 190])\n",
    "plt.ylim([-70, 100])\n",
    "plt.axis('off')\n",
    "trunk, = ax.plot([], [], 'b.') \n",
    "\n",
    "ani = animation.FuncAnimation(fig=fig,\n",
    "                              func=move_trunk,\n",
    "                              frames=1000,\n",
    "                              init_func=init_plot,\n",
    "                              interval=100,\n",
    "                              blit=False,\n",
    "                              repeat=True)\n",
    "ani\n",
    "HTML(ani.to_html5_video())\n",
    "\n",
    "Writer = animation.writers['ffmpeg']\n",
    "metadata = dict(title='Wentians pea shooter')\n",
    "writer = Writer(fps=30, metadata=metadata, bitrate=1800)\n",
    "ani.save(filename='peashooter.mp4', writer=writer)\n",
    "# plt.show()"
   ],
   "execution_count": null,
   "outputs": [
    {
     "output_type": "display_data",
     "data": {
      "image/png": "[encoded data removed]",
      "text/plain": [
       "<Figure size 432x288 with 1 Axes>"
      ]
     },
     "metadata": {
      "needs_background": "light"
     }
    }
   ]
  }
 ]
}